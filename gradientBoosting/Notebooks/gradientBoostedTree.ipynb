{
 "metadata": {
  "language_info": {
   "codemirror_mode": {
    "name": "ipython",
    "version": 3
   },
   "file_extension": ".py",
   "mimetype": "text/x-python",
   "name": "python",
   "nbconvert_exporter": "python",
   "pygments_lexer": "ipython3",
   "version": "3.7.7-final"
  },
  "orig_nbformat": 2,
  "kernelspec": {
   "name": "python_defaultSpec_1600881336744",
   "display_name": "Python 3.7.7 64-bit ('mlenv': conda)"
  }
 },
 "nbformat": 4,
 "nbformat_minor": 2,
 "cells": [
  {
   "cell_type": "code",
   "execution_count": 19,
   "metadata": {},
   "outputs": [],
   "source": [
    "#imports\n",
    "import pandas as pd\n",
    "from path import Path\n",
    "from sklearn.model_selection import train_test_split\n",
    "from sklearn.preprocessing import StandardScaler\n",
    "from sklearn.ensemble import GradientBoostingClassifier\n",
    "from sklearn.metrics import confusion_matrix\n",
    "from sklearn.metrics import accuracy_score\n",
    "from sklearn.metrics import classification_report"
   ]
  },
  {
   "cell_type": "code",
   "execution_count": 2,
   "metadata": {},
   "outputs": [
    {
     "output_type": "execute_result",
     "data": {
      "text/plain": "   amount  term  age  bad  month_num  education_Bachelor  \\\n0    1000    30   45    0          6                   0   \n1    1000    30   50    0          7                   1   \n2    1000    30   33    0          8                   1   \n3    1000    15   27    0          9                   0   \n4    1000    30   28    0         10                   0   \n\n   education_High School or Below  education_Master or Above  \\\n0                               1                          0   \n1                               0                          0   \n2                               0                          0   \n3                               0                          0   \n4                               0                          0   \n\n   education_college  gender_female  gender_male  \n0                  0              0            1  \n1                  0              1            0  \n2                  0              1            0  \n3                  1              0            1  \n4                  1              1            0  ",
      "text/html": "<div>\n<style scoped>\n    .dataframe tbody tr th:only-of-type {\n        vertical-align: middle;\n    }\n\n    .dataframe tbody tr th {\n        vertical-align: top;\n    }\n\n    .dataframe thead th {\n        text-align: right;\n    }\n</style>\n<table border=\"1\" class=\"dataframe\">\n  <thead>\n    <tr style=\"text-align: right;\">\n      <th></th>\n      <th>amount</th>\n      <th>term</th>\n      <th>age</th>\n      <th>bad</th>\n      <th>month_num</th>\n      <th>education_Bachelor</th>\n      <th>education_High School or Below</th>\n      <th>education_Master or Above</th>\n      <th>education_college</th>\n      <th>gender_female</th>\n      <th>gender_male</th>\n    </tr>\n  </thead>\n  <tbody>\n    <tr>\n      <th>0</th>\n      <td>1000</td>\n      <td>30</td>\n      <td>45</td>\n      <td>0</td>\n      <td>6</td>\n      <td>0</td>\n      <td>1</td>\n      <td>0</td>\n      <td>0</td>\n      <td>0</td>\n      <td>1</td>\n    </tr>\n    <tr>\n      <th>1</th>\n      <td>1000</td>\n      <td>30</td>\n      <td>50</td>\n      <td>0</td>\n      <td>7</td>\n      <td>1</td>\n      <td>0</td>\n      <td>0</td>\n      <td>0</td>\n      <td>1</td>\n      <td>0</td>\n    </tr>\n    <tr>\n      <th>2</th>\n      <td>1000</td>\n      <td>30</td>\n      <td>33</td>\n      <td>0</td>\n      <td>8</td>\n      <td>1</td>\n      <td>0</td>\n      <td>0</td>\n      <td>0</td>\n      <td>1</td>\n      <td>0</td>\n    </tr>\n    <tr>\n      <th>3</th>\n      <td>1000</td>\n      <td>15</td>\n      <td>27</td>\n      <td>0</td>\n      <td>9</td>\n      <td>0</td>\n      <td>0</td>\n      <td>0</td>\n      <td>1</td>\n      <td>0</td>\n      <td>1</td>\n    </tr>\n    <tr>\n      <th>4</th>\n      <td>1000</td>\n      <td>30</td>\n      <td>28</td>\n      <td>0</td>\n      <td>10</td>\n      <td>0</td>\n      <td>0</td>\n      <td>0</td>\n      <td>1</td>\n      <td>1</td>\n      <td>0</td>\n    </tr>\n  </tbody>\n</table>\n</div>"
     },
     "metadata": {},
     "execution_count": 2
    }
   ],
   "source": [
    "#load data\n",
    "file_path = Path(\"../Resources/loans_data_encoded.csv\")\n",
    "loans_df = pd.read_csv(file_path)\n",
    "loans_df.head()"
   ]
  },
  {
   "cell_type": "code",
   "execution_count": 3,
   "metadata": {},
   "outputs": [],
   "source": [
    "#separate features and target\n",
    "X = loans_df.copy()\n",
    "X = X.drop(\"bad\", axis=1)\n",
    "y = loans_df[\"bad\"].values"
   ]
  },
  {
   "cell_type": "code",
   "execution_count": 6,
   "metadata": {},
   "outputs": [],
   "source": [
    "#split data into training and testing sets\n",
    "X_train, X_test, y_train, y_test = train_test_split(X, y, random_state=1)"
   ]
  },
  {
   "cell_type": "code",
   "execution_count": 7,
   "metadata": {},
   "outputs": [],
   "source": [
    "#scale data\n",
    "scaler = StandardScaler()\n",
    "X_scaler = scaler.fit(X_train)\n",
    "X_train_scaled = X_scaler.transform(X_train)\n",
    "X_test_scaled = X_scaler.transform(X_test)"
   ]
  },
  {
   "cell_type": "code",
   "execution_count": 17,
   "metadata": {
    "tags": []
   },
   "outputs": [
    {
     "output_type": "stream",
     "name": "stdout",
     "text": "Learning rate:  0.05\nAccuracy score (training): 0.629\nAccuracy score (validation): 0.512\nLearning rate:  0.1\nAccuracy score (training): 0.656\nAccuracy score (validation): 0.520\nLearning rate:  0.25\nAccuracy score (training): 0.723\nAccuracy score (validation): 0.536\nLearning rate:  0.5\nAccuracy score (training): 0.755\nAccuracy score (validation): 0.560\nLearning rate:  0.75\nAccuracy score (training): 0.781\nAccuracy score (validation): 0.520\nLearning rate:  1\nAccuracy score (training): 0.805\nAccuracy score (validation): 0.512\n"
    }
   ],
   "source": [
    "#for loop to find best learning rate\n",
    "learning_rates = [0.05, 0.1, 0.25, 0.5, 0.75, 1]\n",
    "for learning_rate in learning_rates:\n",
    "   classifier = GradientBoostingClassifier(n_estimators=20,\n",
    "   learning_rate=learning_rate,\n",
    "   max_features=5,\n",
    "   max_depth=3,\n",
    "   random_state=0)\n",
    "   #fit the model\n",
    "   classifier.fit(X_train_scaled, y_train)\n",
    "   print(\"Learning rate: \", learning_rate)\n",
    "   print(\"Accuracy score (training): {0:.3f}\".format(\n",
    "       classifier.score(\n",
    "           X_train_scaled,\n",
    "           y_train)))\n",
    "   print(\"Accuracy score (validation): {0:.3f}\".format(\n",
    "       classifier.score(\n",
    "           X_test_scaled,\n",
    "           y_test)))"
   ]
  },
  {
   "cell_type": "code",
   "execution_count": 25,
   "metadata": {},
   "outputs": [
    {
     "output_type": "execute_result",
     "data": {
      "text/plain": "    prediction  Actual\n0            0       1\n1            0       1\n2            0       0\n3            1       0\n4            0       1\n5            1       1\n6            0       1\n7            0       0\n8            0       0\n9            0       0\n10           1       1\n11           0       0\n12           0       0\n13           0       0\n14           0       1\n15           0       0\n16           0       1\n17           0       0\n18           0       0\n19           0       0",
      "text/html": "<div>\n<style scoped>\n    .dataframe tbody tr th:only-of-type {\n        vertical-align: middle;\n    }\n\n    .dataframe tbody tr th {\n        vertical-align: top;\n    }\n\n    .dataframe thead th {\n        text-align: right;\n    }\n</style>\n<table border=\"1\" class=\"dataframe\">\n  <thead>\n    <tr style=\"text-align: right;\">\n      <th></th>\n      <th>prediction</th>\n      <th>Actual</th>\n    </tr>\n  </thead>\n  <tbody>\n    <tr>\n      <th>0</th>\n      <td>0</td>\n      <td>1</td>\n    </tr>\n    <tr>\n      <th>1</th>\n      <td>0</td>\n      <td>1</td>\n    </tr>\n    <tr>\n      <th>2</th>\n      <td>0</td>\n      <td>0</td>\n    </tr>\n    <tr>\n      <th>3</th>\n      <td>1</td>\n      <td>0</td>\n    </tr>\n    <tr>\n      <th>4</th>\n      <td>0</td>\n      <td>1</td>\n    </tr>\n    <tr>\n      <th>5</th>\n      <td>1</td>\n      <td>1</td>\n    </tr>\n    <tr>\n      <th>6</th>\n      <td>0</td>\n      <td>1</td>\n    </tr>\n    <tr>\n      <th>7</th>\n      <td>0</td>\n      <td>0</td>\n    </tr>\n    <tr>\n      <th>8</th>\n      <td>0</td>\n      <td>0</td>\n    </tr>\n    <tr>\n      <th>9</th>\n      <td>0</td>\n      <td>0</td>\n    </tr>\n    <tr>\n      <th>10</th>\n      <td>1</td>\n      <td>1</td>\n    </tr>\n    <tr>\n      <th>11</th>\n      <td>0</td>\n      <td>0</td>\n    </tr>\n    <tr>\n      <th>12</th>\n      <td>0</td>\n      <td>0</td>\n    </tr>\n    <tr>\n      <th>13</th>\n      <td>0</td>\n      <td>0</td>\n    </tr>\n    <tr>\n      <th>14</th>\n      <td>0</td>\n      <td>1</td>\n    </tr>\n    <tr>\n      <th>15</th>\n      <td>0</td>\n      <td>0</td>\n    </tr>\n    <tr>\n      <th>16</th>\n      <td>0</td>\n      <td>1</td>\n    </tr>\n    <tr>\n      <th>17</th>\n      <td>0</td>\n      <td>0</td>\n    </tr>\n    <tr>\n      <th>18</th>\n      <td>0</td>\n      <td>0</td>\n    </tr>\n    <tr>\n      <th>19</th>\n      <td>0</td>\n      <td>0</td>\n    </tr>\n  </tbody>\n</table>\n</div>"
     },
     "metadata": {},
     "execution_count": 25
    }
   ],
   "source": [
    "#create gradientboosting classifier\n",
    "classifier = GradientBoostingClassifier(n_estimators=20, learning_rate=0.5, max_features=5, max_depth=3, random_state=0)\n",
    "#fit model\n",
    "classifier.fit(X_train_scaled, y_train)\n",
    "#make predicitons\n",
    "predicitons = classifier.predict(X_test_scaled)\n",
    "pd.DataFrame({\"prediction\": predicitons, \"Actual\": y_test}).head(20)"
   ]
  },
  {
   "cell_type": "code",
   "execution_count": 20,
   "metadata": {
    "tags": []
   },
   "outputs": [
    {
     "output_type": "stream",
     "name": "stdout",
     "text": "Accuracy Score: 0.56\n"
    }
   ],
   "source": [
    "#assess accuracy\n",
    "acc_score = accuracy_score(y_test, predicitons)\n",
    "print(f\"Accuracy Score: {acc_score}\")"
   ]
  },
  {
   "cell_type": "code",
   "execution_count": 21,
   "metadata": {},
   "outputs": [
    {
     "output_type": "display_data",
     "data": {
      "text/plain": "          predicted 0  predicted 1\nactual 0           49           16\nactual 1           39           21",
      "text/html": "<div>\n<style scoped>\n    .dataframe tbody tr th:only-of-type {\n        vertical-align: middle;\n    }\n\n    .dataframe tbody tr th {\n        vertical-align: top;\n    }\n\n    .dataframe thead th {\n        text-align: right;\n    }\n</style>\n<table border=\"1\" class=\"dataframe\">\n  <thead>\n    <tr style=\"text-align: right;\">\n      <th></th>\n      <th>predicted 0</th>\n      <th>predicted 1</th>\n    </tr>\n  </thead>\n  <tbody>\n    <tr>\n      <th>actual 0</th>\n      <td>49</td>\n      <td>16</td>\n    </tr>\n    <tr>\n      <th>actual 1</th>\n      <td>39</td>\n      <td>21</td>\n    </tr>\n  </tbody>\n</table>\n</div>"
     },
     "metadata": {}
    }
   ],
   "source": [
    "#generate confusion matrix\n",
    "cm = confusion_matrix(y_test,predicitons)\n",
    "cm_df = pd.DataFrame(cm, index=[\"actual 0\", \"actual 1\"], columns=[\"predicted 0\", \"predicted 1\"])\n",
    "display(cm_df)"
   ]
  },
  {
   "cell_type": "code",
   "execution_count": 22,
   "metadata": {
    "tags": []
   },
   "outputs": [
    {
     "output_type": "stream",
     "name": "stdout",
     "text": "Classification Report\n              precision    recall  f1-score   support\n\n           0       0.56      0.75      0.64        65\n           1       0.57      0.35      0.43        60\n\n    accuracy                           0.56       125\n   macro avg       0.56      0.55      0.54       125\nweighted avg       0.56      0.56      0.54       125\n\n"
    }
   ],
   "source": [
    "#generate classification report\n",
    "print(\"Classification Report\")\n",
    "print(classification_report(y_test, predicitons))"
   ]
  }
 ]
}